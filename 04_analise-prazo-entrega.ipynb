{
 "cells": [
  {
   "cell_type": "markdown",
   "metadata": {},
   "source": [
    "Previsão de Entrega:\n",
    "\n",
    "Como o tempo médio de entrega das compras está relacionado com outras variáveis? Podemos prever o tempo de entrega com base nessas variáveis?"
   ]
  },
  {
   "cell_type": "code",
   "execution_count": 1,
   "metadata": {},
   "outputs": [],
   "source": [
    "import pandas as pd\n",
    "import matplotlib.pyplot as plt\n",
    "from sklearn.model_selection import train_test_split\n",
    "from sklearn.linear_model import LinearRegression\n",
    "from sklearn.metrics import r2_score, mean_squared_error\n",
    "import statsmodels.formula.api as sm"
   ]
  },
  {
   "cell_type": "markdown",
   "metadata": {},
   "source": [
    "Carregamento dos dados e análise"
   ]
  },
  {
   "cell_type": "code",
   "execution_count": 2,
   "metadata": {},
   "outputs": [
    {
     "data": {
      "text/html": [
       "<div>\n",
       "<style scoped>\n",
       "    .dataframe tbody tr th:only-of-type {\n",
       "        vertical-align: middle;\n",
       "    }\n",
       "\n",
       "    .dataframe tbody tr th {\n",
       "        vertical-align: top;\n",
       "    }\n",
       "\n",
       "    .dataframe thead th {\n",
       "        text-align: right;\n",
       "    }\n",
       "</style>\n",
       "<table border=\"1\" class=\"dataframe\">\n",
       "  <thead>\n",
       "    <tr style=\"text-align: right;\">\n",
       "      <th></th>\n",
       "      <th>ClientAge</th>\n",
       "      <th>WebVisits</th>\n",
       "      <th>BrowsingTime</th>\n",
       "      <th>ItemsPurchased</th>\n",
       "      <th>TotalSpent</th>\n",
       "      <th>StoreRating</th>\n",
       "      <th>DeliveryTime</th>\n",
       "    </tr>\n",
       "  </thead>\n",
       "  <tbody>\n",
       "    <tr>\n",
       "      <th>0</th>\n",
       "      <td>56</td>\n",
       "      <td>52</td>\n",
       "      <td>201</td>\n",
       "      <td>7</td>\n",
       "      <td>755</td>\n",
       "      <td>1</td>\n",
       "      <td>7</td>\n",
       "    </tr>\n",
       "    <tr>\n",
       "      <th>1</th>\n",
       "      <td>69</td>\n",
       "      <td>66</td>\n",
       "      <td>162</td>\n",
       "      <td>11</td>\n",
       "      <td>962</td>\n",
       "      <td>2</td>\n",
       "      <td>8</td>\n",
       "    </tr>\n",
       "    <tr>\n",
       "      <th>2</th>\n",
       "      <td>46</td>\n",
       "      <td>43</td>\n",
       "      <td>223</td>\n",
       "      <td>8</td>\n",
       "      <td>637</td>\n",
       "      <td>1</td>\n",
       "      <td>9</td>\n",
       "    </tr>\n",
       "    <tr>\n",
       "      <th>3</th>\n",
       "      <td>32</td>\n",
       "      <td>30</td>\n",
       "      <td>239</td>\n",
       "      <td>7</td>\n",
       "      <td>476</td>\n",
       "      <td>4</td>\n",
       "      <td>4</td>\n",
       "    </tr>\n",
       "    <tr>\n",
       "      <th>4</th>\n",
       "      <td>60</td>\n",
       "      <td>58</td>\n",
       "      <td>191</td>\n",
       "      <td>9</td>\n",
       "      <td>847</td>\n",
       "      <td>3</td>\n",
       "      <td>7</td>\n",
       "    </tr>\n",
       "  </tbody>\n",
       "</table>\n",
       "</div>"
      ],
      "text/plain": [
       "   ClientAge  WebVisits  BrowsingTime  ItemsPurchased  TotalSpent  \\\n",
       "0         56         52           201               7         755   \n",
       "1         69         66           162              11         962   \n",
       "2         46         43           223               8         637   \n",
       "3         32         30           239               7         476   \n",
       "4         60         58           191               9         847   \n",
       "\n",
       "   StoreRating  DeliveryTime  \n",
       "0            1             7  \n",
       "1            2             8  \n",
       "2            1             9  \n",
       "3            4             4  \n",
       "4            3             7  "
      ]
     },
     "execution_count": 2,
     "metadata": {},
     "output_type": "execute_result"
    }
   ],
   "source": [
    "dados = pd.read_csv('dados_vendas.csv')\n",
    "dados.head()"
   ]
  },
  {
   "cell_type": "code",
   "execution_count": 3,
   "metadata": {},
   "outputs": [
    {
     "data": {
      "text/plain": [
       "ClientAge         0\n",
       "WebVisits         0\n",
       "BrowsingTime      0\n",
       "ItemsPurchased    0\n",
       "TotalSpent        0\n",
       "StoreRating       0\n",
       "DeliveryTime      0\n",
       "dtype: int64"
      ]
     },
     "execution_count": 3,
     "metadata": {},
     "output_type": "execute_result"
    }
   ],
   "source": [
    "dados.isna().sum()"
   ]
  },
  {
   "cell_type": "markdown",
   "metadata": {},
   "source": [
    "Definindo as variáveis independentes (X) e a dependente (y)"
   ]
  },
  {
   "cell_type": "code",
   "execution_count": 4,
   "metadata": {},
   "outputs": [],
   "source": [
    "X = dados[['ClientAge', 'WebVisits', 'BrowsingTime', 'ItemsPurchased', 'TotalSpent', 'StoreRating']]\n",
    "y = dados['DeliveryTime']"
   ]
  },
  {
   "cell_type": "markdown",
   "metadata": {},
   "source": [
    "Dados de Treinamento e Teste"
   ]
  },
  {
   "cell_type": "code",
   "execution_count": 5,
   "metadata": {},
   "outputs": [],
   "source": [
    "X_train, X_test, y_train, y_test = train_test_split(X, y, test_size=0.2, random_state=42)"
   ]
  },
  {
   "cell_type": "markdown",
   "metadata": {},
   "source": [
    "Criação do modelo"
   ]
  },
  {
   "cell_type": "code",
   "execution_count": 6,
   "metadata": {},
   "outputs": [
    {
     "data": {
      "text/plain": [
       "LinearRegression()"
      ]
     },
     "execution_count": 6,
     "metadata": {},
     "output_type": "execute_result"
    }
   ],
   "source": [
    "regressao = LinearRegression()\n",
    "regressao.fit(X_train, y_train)"
   ]
  },
  {
   "cell_type": "markdown",
   "metadata": {},
   "source": [
    "Previsões com dados de teste"
   ]
  },
  {
   "cell_type": "code",
   "execution_count": 7,
   "metadata": {},
   "outputs": [],
   "source": [
    "previsoes = regressao.predict(X_test)"
   ]
  },
  {
   "cell_type": "markdown",
   "metadata": {},
   "source": [
    "Avaliação"
   ]
  },
  {
   "cell_type": "code",
   "execution_count": 9,
   "metadata": {},
   "outputs": [
    {
     "name": "stdout",
     "output_type": "stream",
     "text": [
      "Erro Médio Quadrático: 1.3711510218270775\n",
      "R²: 0.4588416216543135\n"
     ]
    }
   ],
   "source": [
    "erro_medio_quadratico = mean_squared_error(y_test, previsoes)\n",
    "r_quadrado = r2_score(y_test, previsoes)\n",
    "\n",
    "# Exibir as métricas de avaliação\n",
    "print('Erro Médio Quadrático:', erro_medio_quadratico)\n",
    "print('R²:', r_quadrado)"
   ]
  },
  {
   "cell_type": "markdown",
   "metadata": {},
   "source": [
    "Um erro médio quadrático de 1.37 indica que o modelo está, em média, errando em cerca de 1.37 unidades de tempo de entrega em relação aos valores reais. Além disso, um coeficiente de determinação (R²) de aproximadamente 0.46 sugere que o modelo consegue explicar 46% da variabilidade nos dados de tempo de entrega com base nas outras variáveis."
   ]
  },
  {
   "cell_type": "markdown",
   "metadata": {},
   "source": [
    "Visualizar os resultados"
   ]
  },
  {
   "cell_type": "code",
   "execution_count": 10,
   "metadata": {},
   "outputs": [
    {
     "data": {
      "image/png": "[encoded data removed]",
      "text/plain": [
       "<Figure size 720x432 with 1 Axes>"
      ]
     },
     "metadata": {
      "needs_background": "light"
     },
     "output_type": "display_data"
    }
   ],
   "source": [
    "# Valores reais vs previstos\n",
    "plt.figure(figsize=(10, 6))\n",
    "plt.scatter(y_test, previsoes, color='blue')\n",
    "plt.plot([min(y_test), max(y_test)], [min(y_test), max(y_test)], linestyle='--', color='r', linewidth=2)\n",
    "plt.xlabel('Tempo de Entrega Real')\n",
    "plt.ylabel('Tempo de Entrega Previsto')\n",
    "plt.title('Previsão do tempo de Entrega')\n",
    "plt.show()"
   ]
  }
 ],
 "metadata": {
  "kernelspec": {
   "display_name": "Python 3",
   "language": "python",
   "name": "python3"
  },
  "language_info": {
   "codemirror_mode": {
    "name": "ipython",
    "version": 3
   },
   "file_extension": ".py",
   "mimetype": "text/x-python",
   "name": "python",
   "nbconvert_exporter": "python",
   "pygments_lexer": "ipython3",
   "version": "3.10.1"
  },
  "orig_nbformat": 4
 },
 "nbformat": 4,
 "nbformat_minor": 2
}

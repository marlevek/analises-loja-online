{
 "cells": [
  {
   "cell_type": "markdown",
   "metadata": {},
   "source": [
    "Vamos, a partir de um arquivo csv criado com numpy e pandas, responder 6 perguntas sobre loja online.\n",
    "\n",
    "O arquivo tem a sequinte estrutura:\n",
    "\n",
    "1450 linhas e 7 colunas: \n",
    "<ul style=\"list_style_type:none\">\n",
    "<li>ClientAge</li>\n",
    "<li>WebVisits</li>\n",
    "<li>BrowsingTime</li>\n",
    "<li>ItemsPurchased</li>\n",
    "<li>TotalSpent</li>\n",
    "<li>StoreRating</li>\n",
    "<li>DeliveryTime (dias)</li> \n",
    "</ul>\n",
    "\n",
    "\n",
    "1. Previsão de Vendas Futuras:\n",
    "Como as vendas da loja online se correlacionam com a idade dos clientes, o número de visitas ao site, o tempo de navegação, etc.? \n",
    "\n",
    "É possível usar a regressão para prever as vendas futuras com base nessas variáveis."
   ]
  },
  {
   "cell_type": "markdown",
   "metadata": {},
   "source": [
    "Primeiro, vamos criar um arquivo csv com dados fictícios usando numpy e pandas."
   ]
  },
  {
   "cell_type": "code",
   "execution_count": 1,
   "metadata": {},
   "outputs": [],
   "source": [
    "import pandas as pd\n",
    "import numpy as np"
   ]
  },
  {
   "cell_type": "code",
   "execution_count": 2,
   "metadata": {},
   "outputs": [],
   "source": [
    "# Definindo o número de linhas e colunas\n",
    "num_linhas = 1500\n",
    "\n",
    "# Criando dados aleatórios para cada coluna\n",
    "np.random.seed(42)\n",
    "\n",
    "ClientAge = np.random.randint(18, 80, num_linhas)\n",
    "WebVisits = ClientAge + np.random.randint(-5, 5, num_linhas)\n",
    "BrowsingTime = 300 - WebVisits * 2 + np.random.randint(-10, 10, num_linhas)\n",
    "ItemsPurchased = WebVisits // 5 + np.random.randint(-3, 3, num_linhas)\n",
    "TotalSpent = WebVisits * 15 + np.random.randint(-50, 50, num_linhas)\n",
    "StoreRating = np.random.randint(1, 5, num_linhas)\n",
    "DeliveryTime = 10 - StoreRating + np.random.randint(-2, 2, num_linhas)\n",
    "\n",
    "\n",
    "data = {\n",
    "    'ClientAge': ClientAge,\n",
    "    'WebVisits': WebVisits,\n",
    "    'BrowsingTime': BrowsingTime,\n",
    "    'ItemsPurchased': ItemsPurchased,\n",
    "    'TotalSpent': TotalSpent,\n",
    "    'StoreRating': StoreRating,\n",
    "    'DeliveryTime': DeliveryTime\n",
    "}\n",
    "\n",
    "# Criando o DataFrame\n",
    "df = pd.DataFrame(data)\n",
    "\n",
    "# Salvando o DataFrame em um arquivo csv\n",
    "df.to_csv('dados_vendas.csv', index=False)"
   ]
  },
  {
   "cell_type": "code",
   "execution_count": 3,
   "metadata": {},
   "outputs": [
    {
     "data": {
      "text/html": [
       "<div>\n",
       "<style scoped>\n",
       "    .dataframe tbody tr th:only-of-type {\n",
       "        vertical-align: middle;\n",
       "    }\n",
       "\n",
       "    .dataframe tbody tr th {\n",
       "        vertical-align: top;\n",
       "    }\n",
       "\n",
       "    .dataframe thead th {\n",
       "        text-align: right;\n",
       "    }\n",
       "</style>\n",
       "<table border=\"1\" class=\"dataframe\">\n",
       "  <thead>\n",
       "    <tr style=\"text-align: right;\">\n",
       "      <th></th>\n",
       "      <th>ClientAge</th>\n",
       "      <th>WebVisits</th>\n",
       "      <th>BrowsingTime</th>\n",
       "      <th>ItemsPurchased</th>\n",
       "      <th>TotalSpent</th>\n",
       "      <th>StoreRating</th>\n",
       "      <th>DeliveryTime</th>\n",
       "    </tr>\n",
       "  </thead>\n",
       "  <tbody>\n",
       "    <tr>\n",
       "      <th>0</th>\n",
       "      <td>56</td>\n",
       "      <td>52</td>\n",
       "      <td>201</td>\n",
       "      <td>7</td>\n",
       "      <td>755</td>\n",
       "      <td>1</td>\n",
       "      <td>7</td>\n",
       "    </tr>\n",
       "    <tr>\n",
       "      <th>1</th>\n",
       "      <td>69</td>\n",
       "      <td>66</td>\n",
       "      <td>162</td>\n",
       "      <td>11</td>\n",
       "      <td>962</td>\n",
       "      <td>2</td>\n",
       "      <td>8</td>\n",
       "    </tr>\n",
       "    <tr>\n",
       "      <th>2</th>\n",
       "      <td>46</td>\n",
       "      <td>43</td>\n",
       "      <td>223</td>\n",
       "      <td>8</td>\n",
       "      <td>637</td>\n",
       "      <td>1</td>\n",
       "      <td>9</td>\n",
       "    </tr>\n",
       "    <tr>\n",
       "      <th>3</th>\n",
       "      <td>32</td>\n",
       "      <td>30</td>\n",
       "      <td>239</td>\n",
       "      <td>7</td>\n",
       "      <td>476</td>\n",
       "      <td>4</td>\n",
       "      <td>4</td>\n",
       "    </tr>\n",
       "    <tr>\n",
       "      <th>4</th>\n",
       "      <td>60</td>\n",
       "      <td>58</td>\n",
       "      <td>191</td>\n",
       "      <td>9</td>\n",
       "      <td>847</td>\n",
       "      <td>3</td>\n",
       "      <td>7</td>\n",
       "    </tr>\n",
       "  </tbody>\n",
       "</table>\n",
       "</div>"
      ],
      "text/plain": [
       "   ClientAge  WebVisits  BrowsingTime  ItemsPurchased  TotalSpent  \\\n",
       "0         56         52           201               7         755   \n",
       "1         69         66           162              11         962   \n",
       "2         46         43           223               8         637   \n",
       "3         32         30           239               7         476   \n",
       "4         60         58           191               9         847   \n",
       "\n",
       "   StoreRating  DeliveryTime  \n",
       "0            1             7  \n",
       "1            2             8  \n",
       "2            1             9  \n",
       "3            4             4  \n",
       "4            3             7  "
      ]
     },
     "execution_count": 3,
     "metadata": {},
     "output_type": "execute_result"
    }
   ],
   "source": [
    "# Carregando os dados\n",
    "df = pd.read_csv('dados_vendas.csv')\n",
    "df.head()"
   ]
  },
  {
   "cell_type": "code",
   "execution_count": 4,
   "metadata": {},
   "outputs": [
    {
     "data": {
      "text/plain": [
       "(1500, 7)"
      ]
     },
     "execution_count": 4,
     "metadata": {},
     "output_type": "execute_result"
    }
   ],
   "source": [
    "df.shape"
   ]
  },
  {
   "cell_type": "code",
   "execution_count": 5,
   "metadata": {},
   "outputs": [
    {
     "data": {
      "text/plain": [
       "ClientAge         0\n",
       "WebVisits         0\n",
       "BrowsingTime      0\n",
       "ItemsPurchased    0\n",
       "TotalSpent        0\n",
       "StoreRating       0\n",
       "DeliveryTime      0\n",
       "dtype: int64"
      ]
     },
     "execution_count": 5,
     "metadata": {},
     "output_type": "execute_result"
    }
   ],
   "source": [
    "df.isna().sum()"
   ]
  },
  {
   "cell_type": "code",
   "execution_count": 6,
   "metadata": {},
   "outputs": [
    {
     "data": {
      "text/plain": [
       "ClientAge         int64\n",
       "WebVisits         int64\n",
       "BrowsingTime      int64\n",
       "ItemsPurchased    int64\n",
       "TotalSpent        int64\n",
       "StoreRating       int64\n",
       "DeliveryTime      int64\n",
       "dtype: object"
      ]
     },
     "execution_count": 6,
     "metadata": {},
     "output_type": "execute_result"
    }
   ],
   "source": [
    "df.dtypes"
   ]
  },
  {
   "cell_type": "code",
   "execution_count": 7,
   "metadata": {},
   "outputs": [
    {
     "data": {
      "text/html": [
       "<div>\n",
       "<style scoped>\n",
       "    .dataframe tbody tr th:only-of-type {\n",
       "        vertical-align: middle;\n",
       "    }\n",
       "\n",
       "    .dataframe tbody tr th {\n",
       "        vertical-align: top;\n",
       "    }\n",
       "\n",
       "    .dataframe thead th {\n",
       "        text-align: right;\n",
       "    }\n",
       "</style>\n",
       "<table border=\"1\" class=\"dataframe\">\n",
       "  <thead>\n",
       "    <tr style=\"text-align: right;\">\n",
       "      <th></th>\n",
       "      <th>ClientAge</th>\n",
       "      <th>WebVisits</th>\n",
       "      <th>BrowsingTime</th>\n",
       "      <th>ItemsPurchased</th>\n",
       "      <th>TotalSpent</th>\n",
       "      <th>StoreRating</th>\n",
       "      <th>DeliveryTime</th>\n",
       "    </tr>\n",
       "  </thead>\n",
       "  <tbody>\n",
       "    <tr>\n",
       "      <th>count</th>\n",
       "      <td>1500.000000</td>\n",
       "      <td>1500.000000</td>\n",
       "      <td>1500.00000</td>\n",
       "      <td>1500.000000</td>\n",
       "      <td>1500.000000</td>\n",
       "      <td>1500.000000</td>\n",
       "      <td>1500.000000</td>\n",
       "    </tr>\n",
       "    <tr>\n",
       "      <th>mean</th>\n",
       "      <td>49.135333</td>\n",
       "      <td>48.596000</td>\n",
       "      <td>202.26800</td>\n",
       "      <td>8.914000</td>\n",
       "      <td>728.078000</td>\n",
       "      <td>2.456667</td>\n",
       "      <td>7.060667</td>\n",
       "    </tr>\n",
       "    <tr>\n",
       "      <th>std</th>\n",
       "      <td>18.140794</td>\n",
       "      <td>18.273608</td>\n",
       "      <td>36.87657</td>\n",
       "      <td>4.041472</td>\n",
       "      <td>276.814359</td>\n",
       "      <td>1.109178</td>\n",
       "      <td>1.569701</td>\n",
       "    </tr>\n",
       "    <tr>\n",
       "      <th>min</th>\n",
       "      <td>18.000000</td>\n",
       "      <td>13.000000</td>\n",
       "      <td>126.00000</td>\n",
       "      <td>0.000000</td>\n",
       "      <td>176.000000</td>\n",
       "      <td>1.000000</td>\n",
       "      <td>4.000000</td>\n",
       "    </tr>\n",
       "    <tr>\n",
       "      <th>25%</th>\n",
       "      <td>34.000000</td>\n",
       "      <td>33.000000</td>\n",
       "      <td>173.00000</td>\n",
       "      <td>6.000000</td>\n",
       "      <td>498.750000</td>\n",
       "      <td>1.000000</td>\n",
       "      <td>6.000000</td>\n",
       "    </tr>\n",
       "    <tr>\n",
       "      <th>50%</th>\n",
       "      <td>49.500000</td>\n",
       "      <td>49.000000</td>\n",
       "      <td>202.00000</td>\n",
       "      <td>9.000000</td>\n",
       "      <td>728.500000</td>\n",
       "      <td>2.000000</td>\n",
       "      <td>7.000000</td>\n",
       "    </tr>\n",
       "    <tr>\n",
       "      <th>75%</th>\n",
       "      <td>65.000000</td>\n",
       "      <td>64.000000</td>\n",
       "      <td>233.00000</td>\n",
       "      <td>12.000000</td>\n",
       "      <td>961.250000</td>\n",
       "      <td>3.000000</td>\n",
       "      <td>8.000000</td>\n",
       "    </tr>\n",
       "    <tr>\n",
       "      <th>max</th>\n",
       "      <td>79.000000</td>\n",
       "      <td>83.000000</td>\n",
       "      <td>280.00000</td>\n",
       "      <td>18.000000</td>\n",
       "      <td>1277.000000</td>\n",
       "      <td>4.000000</td>\n",
       "      <td>10.000000</td>\n",
       "    </tr>\n",
       "  </tbody>\n",
       "</table>\n",
       "</div>"
      ],
      "text/plain": [
       "         ClientAge    WebVisits  BrowsingTime  ItemsPurchased   TotalSpent  \\\n",
       "count  1500.000000  1500.000000    1500.00000     1500.000000  1500.000000   \n",
       "mean     49.135333    48.596000     202.26800        8.914000   728.078000   \n",
       "std      18.140794    18.273608      36.87657        4.041472   276.814359   \n",
       "min      18.000000    13.000000     126.00000        0.000000   176.000000   \n",
       "25%      34.000000    33.000000     173.00000        6.000000   498.750000   \n",
       "50%      49.500000    49.000000     202.00000        9.000000   728.500000   \n",
       "75%      65.000000    64.000000     233.00000       12.000000   961.250000   \n",
       "max      79.000000    83.000000     280.00000       18.000000  1277.000000   \n",
       "\n",
       "       StoreRating  DeliveryTime  \n",
       "count  1500.000000   1500.000000  \n",
       "mean      2.456667      7.060667  \n",
       "std       1.109178      1.569701  \n",
       "min       1.000000      4.000000  \n",
       "25%       1.000000      6.000000  \n",
       "50%       2.000000      7.000000  \n",
       "75%       3.000000      8.000000  \n",
       "max       4.000000     10.000000  "
      ]
     },
     "execution_count": 7,
     "metadata": {},
     "output_type": "execute_result"
    }
   ],
   "source": [
    "# Resumo estatístico\n",
    "df.describe()"
   ]
  },
  {
   "cell_type": "markdown",
   "metadata": {},
   "source": [
    "PERGUNTA:\n",
    "\n",
    "Como as vendas da loja online se correlacionam com a idade dos clientes, o número de visitas ao site, o tempo de navegação, etc.? \n",
    "\n",
    "Vamos usar a regressão linear múltipla para fazer previsões de vendas"
   ]
  },
  {
   "cell_type": "code",
   "execution_count": 8,
   "metadata": {},
   "outputs": [],
   "source": [
    "from sklearn.linear_model import LinearRegression\n",
    "from sklearn.model_selection import train_test_split\n",
    "from sklearn.metrics import r2_score, mean_squared_error"
   ]
  },
  {
   "cell_type": "markdown",
   "metadata": {},
   "source": [
    "REGRESSÃO LINEAR MÚLTIPLA"
   ]
  },
  {
   "cell_type": "markdown",
   "metadata": {},
   "source": [
    " -> Definir as variáveis independentes (X) e a dependente(y)"
   ]
  },
  {
   "cell_type": "code",
   "execution_count": 9,
   "metadata": {},
   "outputs": [],
   "source": [
    "X = df[['ClientAge', 'WebVisits', 'BrowsingTime']]\n",
    "y = df['TotalSpent']"
   ]
  },
  {
   "cell_type": "markdown",
   "metadata": {},
   "source": [
    "-> Separação entre treino (80%) e teste(20%)"
   ]
  },
  {
   "cell_type": "code",
   "execution_count": 10,
   "metadata": {},
   "outputs": [],
   "source": [
    "X_train, X_test, y_train, y_test = train_test_split(X, y, test_size=0.2, random_state=42)"
   ]
  },
  {
   "cell_type": "markdown",
   "metadata": {},
   "source": [
    "-> Criar e treinar o modelo"
   ]
  },
  {
   "cell_type": "code",
   "execution_count": 11,
   "metadata": {},
   "outputs": [
    {
     "data": {
      "text/plain": [
       "LinearRegression()"
      ]
     },
     "execution_count": 11,
     "metadata": {},
     "output_type": "execute_result"
    }
   ],
   "source": [
    "linear_model = LinearRegression()\n",
    "linear_model.fit(X_train, y_train)"
   ]
  },
  {
   "cell_type": "markdown",
   "metadata": {},
   "source": [
    "-> Previsões com o conjunto de teste"
   ]
  },
  {
   "cell_type": "code",
   "execution_count": 12,
   "metadata": {},
   "outputs": [],
   "source": [
    "linear_model_pred = linear_model.predict(X_test)"
   ]
  },
  {
   "cell_type": "markdown",
   "metadata": {},
   "source": [
    "-> Avaliação do modelo"
   ]
  },
  {
   "cell_type": "code",
   "execution_count": 13,
   "metadata": {},
   "outputs": [
    {
     "name": "stdout",
     "output_type": "stream",
     "text": [
      "Erro Médio Quadrático: 806.10\n",
      "R²: 0.99\n"
     ]
    }
   ],
   "source": [
    "mse = mean_squared_error(y_test, linear_model_pred)\n",
    "r2 = r2_score(y_test, linear_model_pred)\n",
    "\n",
    "print(f'Erro Médio Quadrático: {mse:.2f}')\n",
    "print(f'R²: {r2:.2f}')"
   ]
  },
  {
   "cell_type": "markdown",
   "metadata": {},
   "source": [
    "RANDOM FOREST"
   ]
  },
  {
   "cell_type": "code",
   "execution_count": 14,
   "metadata": {},
   "outputs": [],
   "source": [
    "from sklearn.ensemble import RandomForestRegressor"
   ]
  },
  {
   "cell_type": "code",
   "execution_count": 15,
   "metadata": {},
   "outputs": [
    {
     "data": {
      "text/plain": [
       "RandomForestRegressor(n_estimators=150, random_state=5)"
      ]
     },
     "execution_count": 15,
     "metadata": {},
     "output_type": "execute_result"
    }
   ],
   "source": [
    "rnd_forest = RandomForestRegressor(n_estimators=150, random_state=5)\n",
    "rnd_forest.fit(X_train, y_train)"
   ]
  },
  {
   "cell_type": "code",
   "execution_count": 16,
   "metadata": {},
   "outputs": [],
   "source": [
    "previsoes = rnd_forest.predict(X_test)"
   ]
  },
  {
   "cell_type": "code",
   "execution_count": 17,
   "metadata": {},
   "outputs": [
    {
     "name": "stdout",
     "output_type": "stream",
     "text": [
      "Erro Médio Quadrático: 997.9656181779966\n",
      "R^2: 0.9870310744019939\n"
     ]
    }
   ],
   "source": [
    "erro_medio_quadratico = mean_squared_error(y_test, previsoes)\n",
    "r2 = r2_score(y_test, previsoes)\n",
    "\n",
    "print('Erro Médio Quadrático:', erro_medio_quadratico)\n",
    "print('R^2:', r2)"
   ]
  },
  {
   "cell_type": "markdown",
   "metadata": {},
   "source": [
    "Previsão com dados novos\n"
   ]
  },
  {
   "cell_type": "code",
   "execution_count": 32,
   "metadata": {},
   "outputs": [
    {
     "name": "stdout",
     "output_type": "stream",
     "text": [
      "   ClientAge  WebVisits  BrowsingTime  ItemsPurchased  StoreRating  \\\n",
      "0         45         30           150              10            4   \n",
      "1         50         40           120              15            5   \n",
      "2         35         25           180               8            3   \n",
      "3         60         45           100              20            4   \n",
      "\n",
      "   DeliveryTime  TotalSpent  TotalSpent_RegLinear  TotalSpent_RandomForest  \n",
      "0             5           0            446.238852               470.000000  \n",
      "1             6           0            599.606580               585.366667  \n",
      "2             4           0            372.514019               350.926667  \n",
      "3             5           0            672.782540               669.345333  \n"
     ]
    }
   ],
   "source": [
    "# Crie um DataFrame com novos dados para previsão\n",
    "novos_dados = pd.DataFrame({\n",
    "    'ClientAge': [45, 50, 35, 60],\n",
    "    'WebVisits': [30, 40, 25, 45],\n",
    "    'BrowsingTime': [150, 120, 180, 100],\n",
    "    'ItemsPurchased': [10, 15, 8, 20],\n",
    "    'StoreRating': [4, 5, 3, 4],\n",
    "    'DeliveryTime': [5, 6, 4, 5],\n",
    "    'TotalSpent': [0, 0, 0,0]\n",
    "})\n",
    "\n",
    "# Preencha as previsões de TotalSpent usando o modelo de Regressão Linear\n",
    "previsoes_reg_linear = linear_model.predict(novos_dados[['ClientAge', 'WebVisits', 'BrowsingTime'\n",
    "]])\n",
    "\n",
    "# Preencha as previsões de TotalSpent usando o modelo de Random Forest\n",
    "previsoes_random_forest = rnd_forest.predict(novos_dados[['ClientAge', 'WebVisits', 'BrowsingTime'\n",
    "]])\n",
    "\n",
    "# Adicione as previsões ao DataFrame novos_dados\n",
    "novos_dados['TotalSpent_RegLinear'] = previsoes_reg_linear\n",
    "novos_dados['TotalSpent_RandomForest'] = previsoes_random_forest\n",
    "\n",
    "# Exiba o DataFrame com as previsões\n",
    "print(novos_dados)\n"
   ]
  },
  {
   "cell_type": "markdown",
   "metadata": {},
   "source": [
    "CONCLUSÃO\n",
    "\n",
    "Com base nos resultados obtidos com os modelos de regressão linear e Random Forest, podemos concluir que há uma forte correlação entre as vendas da loja online e as variáveis como idade dos clientes, número de visitas ao site, tempo de navegação, etc. Ambos os modelos apresentam um ajuste muito bom aos dados, com valores elevados de \n",
    "R², indicando que a maioria da variabilidade nas vendas pode ser explicada por essas variáveis.\n",
    "\n",
    "A idade dos clientes, número de visitas ao site, tempo de navegação e outras variáveis incluídas no modelo mostram uma relação linear forte e positiva com as vendas da loja online. Isso significa que à medida que essas variáveis aumentam, as vendas da loja também tendem a aumentar de maneira consistente, de acordo com os padrões presentes nos dados simulados.\n",
    "\n",
    "Em resumo, os resultados dos modelos sugerem que as vendas da loja online estão positivamente correlacionadas com a idade dos clientes, número de visitas ao site, tempo de navegação e outras variáveis incluídas no conjunto de dados."
   ]
  }
 ],
 "metadata": {
  "kernelspec": {
   "display_name": "Python 3",
   "language": "python",
   "name": "python3"
  },
  "language_info": {
   "codemirror_mode": {
    "name": "ipython",
    "version": 3
   },
   "file_extension": ".py",
   "mimetype": "text/x-python",
   "name": "python",
   "nbconvert_exporter": "python",
   "pygments_lexer": "ipython3",
   "version": "3.10.1"
  },
  "orig_nbformat": 4
 },
 "nbformat": 4,
 "nbformat_minor": 2
}

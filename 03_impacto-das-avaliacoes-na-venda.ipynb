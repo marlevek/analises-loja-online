{
 "cells": [
  {
   "cell_type": "markdown",
   "metadata": {},
   "source": [
    "Impacto das Avaliações na Venda:\n",
    "\n",
    " Qual é o impacto da avaliação da loja dada pelos clientes nas vendas? As avaliações mais altas estão correlacionadas com vendas mais altas?\n",
    "\n",
    " Vamos usar a Regressão Linear Simples e StoreRating como variável independente e TotalSpent como dependente"
   ]
  },
  {
   "cell_type": "markdown",
   "metadata": {},
   "source": [
    "-> Carregando as bibliotecas"
   ]
  },
  {
   "cell_type": "code",
   "execution_count": 1,
   "metadata": {},
   "outputs": [],
   "source": [
    "import pandas as pd\n",
    "import matplotlib.pyplot as plt\n",
    "from sklearn.model_selection import train_test_split\n",
    "from sklearn.linear_model import LinearRegression\n",
    "from sklearn.metrics import r2_score, mean_squared_error"
   ]
  },
  {
   "cell_type": "markdown",
   "metadata": {},
   "source": [
    "-> Análise dos dados"
   ]
  },
  {
   "cell_type": "code",
   "execution_count": 2,
   "metadata": {},
   "outputs": [
    {
     "data": {
      "text/html": [
       "<div>\n",
       "<style scoped>\n",
       "    .dataframe tbody tr th:only-of-type {\n",
       "        vertical-align: middle;\n",
       "    }\n",
       "\n",
       "    .dataframe tbody tr th {\n",
       "        vertical-align: top;\n",
       "    }\n",
       "\n",
       "    .dataframe thead th {\n",
       "        text-align: right;\n",
       "    }\n",
       "</style>\n",
       "<table border=\"1\" class=\"dataframe\">\n",
       "  <thead>\n",
       "    <tr style=\"text-align: right;\">\n",
       "      <th></th>\n",
       "      <th>ClientAge</th>\n",
       "      <th>WebVisits</th>\n",
       "      <th>BrowsingTime</th>\n",
       "      <th>ItemsPurchased</th>\n",
       "      <th>TotalSpent</th>\n",
       "      <th>StoreRating</th>\n",
       "      <th>DeliveryTime</th>\n",
       "    </tr>\n",
       "  </thead>\n",
       "  <tbody>\n",
       "    <tr>\n",
       "      <th>0</th>\n",
       "      <td>56</td>\n",
       "      <td>52</td>\n",
       "      <td>201</td>\n",
       "      <td>7</td>\n",
       "      <td>755</td>\n",
       "      <td>1</td>\n",
       "      <td>7</td>\n",
       "    </tr>\n",
       "    <tr>\n",
       "      <th>1</th>\n",
       "      <td>69</td>\n",
       "      <td>66</td>\n",
       "      <td>162</td>\n",
       "      <td>11</td>\n",
       "      <td>962</td>\n",
       "      <td>2</td>\n",
       "      <td>8</td>\n",
       "    </tr>\n",
       "    <tr>\n",
       "      <th>2</th>\n",
       "      <td>46</td>\n",
       "      <td>43</td>\n",
       "      <td>223</td>\n",
       "      <td>8</td>\n",
       "      <td>637</td>\n",
       "      <td>1</td>\n",
       "      <td>9</td>\n",
       "    </tr>\n",
       "    <tr>\n",
       "      <th>3</th>\n",
       "      <td>32</td>\n",
       "      <td>30</td>\n",
       "      <td>239</td>\n",
       "      <td>7</td>\n",
       "      <td>476</td>\n",
       "      <td>4</td>\n",
       "      <td>4</td>\n",
       "    </tr>\n",
       "    <tr>\n",
       "      <th>4</th>\n",
       "      <td>60</td>\n",
       "      <td>58</td>\n",
       "      <td>191</td>\n",
       "      <td>9</td>\n",
       "      <td>847</td>\n",
       "      <td>3</td>\n",
       "      <td>7</td>\n",
       "    </tr>\n",
       "  </tbody>\n",
       "</table>\n",
       "</div>"
      ],
      "text/plain": [
       "   ClientAge  WebVisits  BrowsingTime  ItemsPurchased  TotalSpent  \\\n",
       "0         56         52           201               7         755   \n",
       "1         69         66           162              11         962   \n",
       "2         46         43           223               8         637   \n",
       "3         32         30           239               7         476   \n",
       "4         60         58           191               9         847   \n",
       "\n",
       "   StoreRating  DeliveryTime  \n",
       "0            1             7  \n",
       "1            2             8  \n",
       "2            1             9  \n",
       "3            4             4  \n",
       "4            3             7  "
      ]
     },
     "execution_count": 2,
     "metadata": {},
     "output_type": "execute_result"
    }
   ],
   "source": [
    "dados = pd.read_csv('dados_vendas.csv')\n",
    "dados.head()"
   ]
  },
  {
   "cell_type": "markdown",
   "metadata": {},
   "source": [
    "Há valores ausentes?"
   ]
  },
  {
   "cell_type": "code",
   "execution_count": 3,
   "metadata": {},
   "outputs": [
    {
     "data": {
      "text/plain": [
       "ClientAge         0\n",
       "WebVisits         0\n",
       "BrowsingTime      0\n",
       "ItemsPurchased    0\n",
       "TotalSpent        0\n",
       "StoreRating       0\n",
       "DeliveryTime      0\n",
       "dtype: int64"
      ]
     },
     "execution_count": 3,
     "metadata": {},
     "output_type": "execute_result"
    }
   ],
   "source": [
    "dados.isna().sum()"
   ]
  },
  {
   "cell_type": "markdown",
   "metadata": {},
   "source": [
    "Preparar os dados para treinamento"
   ]
  },
  {
   "cell_type": "code",
   "execution_count": 8,
   "metadata": {},
   "outputs": [],
   "source": [
    "X = dados[['StoreRating']]\n",
    "y = dados['TotalSpent']"
   ]
  },
  {
   "cell_type": "markdown",
   "metadata": {},
   "source": [
    "Conjuntos de treinamento e teste"
   ]
  },
  {
   "cell_type": "code",
   "execution_count": 13,
   "metadata": {},
   "outputs": [],
   "source": [
    "X_train, X_test, y_train, y_test = train_test_split(X, y, test_size=0.2, random_state=42)"
   ]
  },
  {
   "cell_type": "markdown",
   "metadata": {},
   "source": [
    "Criação e inicialização do modelo"
   ]
  },
  {
   "cell_type": "code",
   "execution_count": 14,
   "metadata": {},
   "outputs": [
    {
     "data": {
      "text/plain": [
       "LinearRegression()"
      ]
     },
     "execution_count": 14,
     "metadata": {},
     "output_type": "execute_result"
    }
   ],
   "source": [
    "reg = LinearRegression()\n",
    "reg.fit(X_train, y_train)"
   ]
  },
  {
   "cell_type": "markdown",
   "metadata": {},
   "source": [
    "Previsões com dados de teste"
   ]
  },
  {
   "cell_type": "code",
   "execution_count": 15,
   "metadata": {},
   "outputs": [],
   "source": [
    "previsoes = reg.predict(X_test)"
   ]
  },
  {
   "cell_type": "markdown",
   "metadata": {},
   "source": [
    "Avaliação do modelo"
   ]
  },
  {
   "cell_type": "code",
   "execution_count": 16,
   "metadata": {},
   "outputs": [
    {
     "name": "stdout",
     "output_type": "stream",
     "text": [
      "Erro Quadrático Médio: 77506.64\n",
      "R²: -0.01\n"
     ]
    }
   ],
   "source": [
    "mse = mean_squared_error(y_test, previsoes)\n",
    "r2 = r2_score(y_test, previsoes)\n",
    "\n",
    "print(f'Erro Quadrático Médio: {mse:.2f}')\n",
    "print(f'R²: {r2:.2f}')"
   ]
  },
  {
   "cell_type": "markdown",
   "metadata": {},
   "source": [
    "O resultado do coeficiente de determinação (R²) indica que o modelo de regressão linear não está se ajustando bem aos dados de avaliação da loja versus total de vendas.\n",
    "\n",
    "Vamos tentar transformar os dados para tornar a relação mais linear e ver o resultado"
   ]
  },
  {
   "cell_type": "code",
   "execution_count": 22,
   "metadata": {},
   "outputs": [],
   "source": [
    "from scipy import stats\n",
    "import statsmodels.formula.api as sm\n",
    "import numpy as np"
   ]
  },
  {
   "cell_type": "code",
   "execution_count": 27,
   "metadata": {},
   "outputs": [
    {
     "data": {
      "text/html": [
       "<table class=\"simpletable\">\n",
       "<caption>OLS Regression Results</caption>\n",
       "<tr>\n",
       "  <th>Dep. Variable:</th>       <td>TotalSpent</td>    <th>  R-squared:         </th> <td>   0.965</td> \n",
       "</tr>\n",
       "<tr>\n",
       "  <th>Model:</th>                   <td>OLS</td>       <th>  Adj. R-squared:    </th> <td>   0.965</td> \n",
       "</tr>\n",
       "<tr>\n",
       "  <th>Method:</th>             <td>Least Squares</td>  <th>  F-statistic:       </th> <td>2.070e+04</td>\n",
       "</tr>\n",
       "<tr>\n",
       "  <th>Date:</th>             <td>Fri, 29 Sep 2023</td> <th>  Prob (F-statistic):</th>  <td>  0.00</td>  \n",
       "</tr>\n",
       "<tr>\n",
       "  <th>Time:</th>                 <td>13:10:26</td>     <th>  Log-Likelihood:    </th> <td> -8046.5</td> \n",
       "</tr>\n",
       "<tr>\n",
       "  <th>No. Observations:</th>      <td>  1500</td>      <th>  AIC:               </th> <td>1.610e+04</td>\n",
       "</tr>\n",
       "<tr>\n",
       "  <th>Df Residuals:</th>          <td>  1497</td>      <th>  BIC:               </th> <td>1.611e+04</td>\n",
       "</tr>\n",
       "<tr>\n",
       "  <th>Df Model:</th>              <td>     2</td>      <th>                     </th>     <td> </td>    \n",
       "</tr>\n",
       "<tr>\n",
       "  <th>Covariance Type:</th>      <td>nonrobust</td>    <th>                     </th>     <td> </td>    \n",
       "</tr>\n",
       "</table>\n",
       "<table class=\"simpletable\">\n",
       "<tr>\n",
       "        <td></td>          <th>coef</th>     <th>std err</th>      <th>t</th>      <th>P>|t|</th>  <th>[0.025</th>    <th>0.975]</th>  \n",
       "</tr>\n",
       "<tr>\n",
       "  <th>Intercept</th>    <td> 2220.9488</td> <td>    8.005</td> <td>  277.431</td> <td> 0.000</td> <td> 2205.246</td> <td> 2236.652</td>\n",
       "</tr>\n",
       "<tr>\n",
       "  <th>StoreRating</th>  <td>   -0.5265</td> <td>    1.205</td> <td>   -0.437</td> <td> 0.662</td> <td>   -2.890</td> <td>    1.837</td>\n",
       "</tr>\n",
       "<tr>\n",
       "  <th>BrowsingTime</th> <td>   -7.3743</td> <td>    0.036</td> <td> -203.456</td> <td> 0.000</td> <td>   -7.445</td> <td>   -7.303</td>\n",
       "</tr>\n",
       "</table>\n",
       "<table class=\"simpletable\">\n",
       "<tr>\n",
       "  <th>Omnibus:</th>       <td>68.494</td> <th>  Durbin-Watson:     </th> <td>   1.928</td>\n",
       "</tr>\n",
       "<tr>\n",
       "  <th>Prob(Omnibus):</th> <td> 0.000</td> <th>  Jarque-Bera (JB):  </th> <td>  28.818</td>\n",
       "</tr>\n",
       "<tr>\n",
       "  <th>Skew:</th>          <td> 0.040</td> <th>  Prob(JB):          </th> <td>5.52e-07</td>\n",
       "</tr>\n",
       "<tr>\n",
       "  <th>Kurtosis:</th>      <td> 2.326</td> <th>  Cond. No.          </th> <td>1.23e+03</td>\n",
       "</tr>\n",
       "</table><br/><br/>Notes:<br/>[1] Standard Errors assume that the covariance matrix of the errors is correctly specified.<br/>[2] The condition number is large, 1.23e+03. This might indicate that there are<br/>strong multicollinearity or other numerical problems."
      ],
      "text/plain": [
       "<class 'statsmodels.iolib.summary.Summary'>\n",
       "\"\"\"\n",
       "                            OLS Regression Results                            \n",
       "==============================================================================\n",
       "Dep. Variable:             TotalSpent   R-squared:                       0.965\n",
       "Model:                            OLS   Adj. R-squared:                  0.965\n",
       "Method:                 Least Squares   F-statistic:                 2.070e+04\n",
       "Date:                Fri, 29 Sep 2023   Prob (F-statistic):               0.00\n",
       "Time:                        13:10:26   Log-Likelihood:                -8046.5\n",
       "No. Observations:                1500   AIC:                         1.610e+04\n",
       "Df Residuals:                    1497   BIC:                         1.611e+04\n",
       "Df Model:                           2                                         \n",
       "Covariance Type:            nonrobust                                         \n",
       "================================================================================\n",
       "                   coef    std err          t      P>|t|      [0.025      0.975]\n",
       "--------------------------------------------------------------------------------\n",
       "Intercept     2220.9488      8.005    277.431      0.000    2205.246    2236.652\n",
       "StoreRating     -0.5265      1.205     -0.437      0.662      -2.890       1.837\n",
       "BrowsingTime    -7.3743      0.036   -203.456      0.000      -7.445      -7.303\n",
       "==============================================================================\n",
       "Omnibus:                       68.494   Durbin-Watson:                   1.928\n",
       "Prob(Omnibus):                  0.000   Jarque-Bera (JB):               28.818\n",
       "Skew:                           0.040   Prob(JB):                     5.52e-07\n",
       "Kurtosis:                       2.326   Cond. No.                     1.23e+03\n",
       "==============================================================================\n",
       "\n",
       "Notes:\n",
       "[1] Standard Errors assume that the covariance matrix of the errors is correctly specified.\n",
       "[2] The condition number is large, 1.23e+03. This might indicate that there are\n",
       "strong multicollinearity or other numerical problems.\n",
       "\"\"\""
      ]
     },
     "execution_count": 27,
     "metadata": {},
     "output_type": "execute_result"
    }
   ],
   "source": [
    "modelo_ajustado = sm.ols(data=dados, formula='TotalSpent ~ StoreRating + BrowsingTime')\n",
    "modelo_treinado = modelo_ajustado.fit()\n",
    "modelo_treinado.summary()"
   ]
  },
  {
   "cell_type": "markdown",
   "metadata": {},
   "source": [
    "CONCLUSÃO\n",
    "\n",
    "A estatística F acima indica que o modelo como um todo é estatisticamente significativo, e as estatísticas Omnibus, Durbin-Watson, Jarque-Bera e Kurtosis indicam que os resíduos estão próximos de uma distribuição normal.\n",
    "\n",
    "No entanto, é importante notar que a variável StoreRating não é significativa, o que sugere que, neste modelo, a avaliação da loja não está relacionada de forma independente com o total gasto dos clientes, considerando o tempo de navegação. Por outro lado, o tempo de navegação é uma variável significativa e está negativamente relacionado com o total gasto, indicando que clientes que passam mais tempo navegando tendem a gastar menos.\n",
    "\n",
    "Essa análise oferece insights valiosos sobre como o tempo de navegação está correlacionado com os gastos dos clientes, e que a avaliação da loja por si só (sem levar em conta o tempo de navegação) não está associada aos gastos dos clientes neste modelo."
   ]
  }
 ],
 "metadata": {
  "kernelspec": {
   "display_name": "Python 3",
   "language": "python",
   "name": "python3"
  },
  "language_info": {
   "codemirror_mode": {
    "name": "ipython",
    "version": 3
   },
   "file_extension": ".py",
   "mimetype": "text/x-python",
   "name": "python",
   "nbconvert_exporter": "python",
   "pygments_lexer": "ipython3",
   "version": "3.10.1"
  },
  "orig_nbformat": 4
 },
 "nbformat": 4,
 "nbformat_minor": 2
}
